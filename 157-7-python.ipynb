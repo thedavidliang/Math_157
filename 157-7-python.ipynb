{
 "cells": [
  {
   "cell_type": "markdown",
   "metadata": {},
   "source": [
    "<p> Math 157 - Homework 7 </p>\n",
    "David Liang"
   ]
  },
  {
   "cell_type": "code",
   "execution_count": 1,
   "metadata": {
    "collapsed": true
   },
   "outputs": [],
   "source": [
    "import math\n",
    "import matplotlib.pyplot as plt\n",
    "import numpy as np"
   ]
  },
  {
   "cell_type": "markdown",
   "metadata": {
    "collapsed": true
   },
   "source": [
    "Problem 2, Part 1"
   ]
  },
  {
   "cell_type": "code",
   "execution_count": 2,
   "metadata": {
    "collapsed": true
   },
   "outputs": [],
   "source": [
    "# takes binary expansion of x and switches rightmost 1 to a 0\n",
    "#    does not use conditionals\n",
    "\n",
    "def toggle_rightmost_1(x):\n",
    "    return (x & (x-1))"
   ]
  },
  {
   "cell_type": "code",
   "execution_count": 3,
   "metadata": {},
   "outputs": [
    {
     "name": "stdout",
     "output_type": "stream",
     "text": [
      "0:\t 0\n",
      "1:\t 0\n",
      "2:\t 0\n",
      "3:\t 2\n",
      "4:\t 0\n",
      "5:\t 4\n",
      "6:\t 4\n",
      "7:\t 6\n",
      "8:\t 0\n",
      "9:\t 8\n",
      "10:\t 8\n",
      "11:\t 10\n",
      "12:\t 8\n",
      "13:\t 12\n",
      "14:\t 12\n",
      "15:\t 14\n",
      "16:\t 0\n",
      "17:\t 16\n"
     ]
    }
   ],
   "source": [
    "for i in range(0,18):\n",
    "    print \"%d:\\t %d\"%(i, toggle_rightmost_1(i))"
   ]
  },
  {
   "cell_type": "markdown",
   "metadata": {},
   "source": [
    "Problem 2, Part 2"
   ]
  },
  {
   "cell_type": "code",
   "execution_count": 4,
   "metadata": {
    "collapsed": true
   },
   "outputs": [],
   "source": [
    "# returns True if x = 2^a + 2^b for a,b distinct non-negative integers\n",
    "#   does not use conditionals\n",
    "\n",
    "def two_powers(x):\n",
    "    x1 = toggle_rightmost_1(x)\n",
    "    x2 = toggle_rightmost_1(x1)\n",
    "    return ((x1 != 0) and (x2 == 0))"
   ]
  },
  {
   "cell_type": "code",
   "execution_count": 5,
   "metadata": {},
   "outputs": [
    {
     "name": "stdout",
     "output_type": "stream",
     "text": [
      "0:\t0\n",
      "1:\t0\n",
      "2:\t0\n",
      "3:\t1\n",
      "4:\t0\n",
      "5:\t1\n",
      "6:\t1\n",
      "7:\t0\n",
      "8:\t0\n",
      "9:\t1\n",
      "10:\t1\n",
      "11:\t0\n",
      "12:\t1\n",
      "13:\t0\n",
      "14:\t0\n",
      "15:\t0\n",
      "16:\t0\n",
      "17:\t1\n",
      "18:\t1\n",
      "19:\t0\n"
     ]
    }
   ],
   "source": [
    "for i in range(0,20):\n",
    "    print \"%d:\\t%d\"%(i, two_powers(i))"
   ]
  },
  {
   "cell_type": "code",
   "execution_count": 6,
   "metadata": {
    "collapsed": true
   },
   "outputs": [],
   "source": [
    "# returns min(a,b), without using a conditional\n",
    "#   assume a,b distinct\n",
    "\n",
    "def min_special(a, b):\n",
    "    two_sum = 2**a + 2**b \n",
    "    max_ab = int(math.log(toggle_rightmost_1(two_sum),2))\n",
    "    return (a + b - max_ab)"
   ]
  },
  {
   "cell_type": "code",
   "execution_count": 7,
   "metadata": {},
   "outputs": [
    {
     "name": "stdout",
     "output_type": "stream",
     "text": [
      "min(1, 0) = 0\n",
      "min(1, 2) = 1\n",
      "min(1, 4) = 1\n",
      "min(1, 5) = 1\n",
      "min(3, 0) = 0\n",
      "min(3, 2) = 2\n",
      "min(3, 4) = 3\n",
      "min(3, 5) = 3\n",
      "min(6, 0) = 0\n",
      "min(6, 2) = 2\n",
      "min(6, 4) = 4\n",
      "min(6, 5) = 5\n"
     ]
    }
   ],
   "source": [
    "for i in [1,3,6]:\n",
    "    for j in [0,2,4,5]:\n",
    "        print \"min(%d, %d) = %d\" %(i,j,min_special(i,j))"
   ]
  },
  {
   "cell_type": "markdown",
   "metadata": {
    "collapsed": true
   },
   "source": [
    "Problem 3, Part 1"
   ]
  },
  {
   "cell_type": "code",
   "execution_count": 8,
   "metadata": {
    "collapsed": true
   },
   "outputs": [],
   "source": [
    "# binary search for floor of sqrt(n)\n",
    "\n",
    "def int_sqrt(n):\n",
    "    # easy case that's tricky for the loop\n",
    "    if n == 1:\n",
    "        return 1\n",
    "    \n",
    "    bottom = 0\n",
    "    top = n\n",
    "    while top - bottom > 1:\n",
    "        mid = (top + bottom) / 2\n",
    "        if mid**2 < n:\n",
    "            bottom = mid\n",
    "        elif mid**2 > n:\n",
    "            top = mid\n",
    "        elif mid**2 == n:\n",
    "            return mid\n",
    "    return bottom"
   ]
  },
  {
   "cell_type": "code",
   "execution_count": 10,
   "metadata": {},
   "outputs": [
    {
     "name": "stdout",
     "output_type": "stream",
     "text": [
      "0:\t 0\n",
      "1:\t 1\n",
      "2:\t 1\n",
      "3:\t 1\n",
      "4:\t 2\n",
      "5:\t 2\n",
      "6:\t 2\n",
      "7:\t 2\n",
      "8:\t 2\n",
      "9:\t 3\n",
      "10:\t 3\n",
      "11:\t 3\n",
      "12:\t 3\n",
      "13:\t 3\n",
      "14:\t 3\n",
      "15:\t 3\n",
      "16:\t 4\n",
      "17:\t 4\n",
      "18:\t 4\n",
      "19:\t 4\n",
      "20:\t 4\n",
      "21:\t 4\n",
      "22:\t 4\n",
      "23:\t 4\n",
      "24:\t 4\n",
      "25:\t 5\n",
      "26:\t 5\n"
     ]
    }
   ],
   "source": [
    "for i in range(0,27):\n",
    "    print \"%d:\\t %d\"%(i, int_sqrt(i))"
   ]
  },
  {
   "cell_type": "markdown",
   "metadata": {},
   "source": [
    "Problem 3, Part 2"
   ]
  },
  {
   "cell_type": "code",
   "execution_count": 11,
   "metadata": {},
   "outputs": [
    {
     "data": {
      "image/png": "[encoded data removed]",
      "text/plain": [
       "<matplotlib.figure.Figure at 0x10c943310>"
      ]
     },
     "metadata": {},
     "output_type": "display_data"
    }
   ],
   "source": [
    "# plot int_sqrt(n), along with sqrt(n)\n",
    "\n",
    "xvals = np.arange(0,101,1)\n",
    "\n",
    "plt.plot(xvals, map(math.sqrt, xvals), label = \"Square Root\")\n",
    "plt.plot(xvals, map(int_sqrt, xvals), label = \"Floor Square Root\")\n",
    "plt.legend()\n",
    "plt.show()\n"
   ]
  },
  {
   "cell_type": "code",
   "execution_count": 12,
   "metadata": {},
   "outputs": [],
   "source": [
    "plt.clf()"
   ]
  },
  {
   "cell_type": "markdown",
   "metadata": {
    "collapsed": true
   },
   "source": [
    "Problem 4, Part 1"
   ]
  },
  {
   "cell_type": "code",
   "execution_count": 83,
   "metadata": {
    "collapsed": true
   },
   "outputs": [],
   "source": [
    "# A a sorted array of distinct integers\n",
    "# returns i if A[i]=i, otherwise -1\n",
    "# (linear search)\n",
    "\n",
    "def Ai_eq_i(A):\n",
    "    n = len(A)\n",
    "    for i in range(0,n):\n",
    "        if A[i] == i:\n",
    "            return i\n",
    "        elif A[i] > i:\n",
    "            break\n",
    "    return -1 "
   ]
  },
  {
   "cell_type": "code",
   "execution_count": 16,
   "metadata": {
    "collapsed": true
   },
   "outputs": [],
   "source": [
    "# A a sorted array of distinct integers\n",
    "# returns i if A[i]=i, otherwise -1\n",
    "# (binary search)\n",
    "\n",
    "def Ai_eq_i(A):\n",
    "    n = len(A)\n",
    "    bottom = 0\n",
    "    top = n-1\n",
    "    while top != bottom:\n",
    "        mid = (bottom+top)/2\n",
    "        if A[mid] > mid:\n",
    "            top = mid-1\n",
    "        elif A[mid] < mid:\n",
    "            bottom = mid+1\n",
    "        elif A[mid] == mid:\n",
    "            return mid\n",
    "        \n",
    "    # if get here, then bottom==top    \n",
    "    if A[bottom]==bottom:\n",
    "        return bottom\n",
    "    else:\n",
    "        return -1"
   ]
  },
  {
   "cell_type": "markdown",
   "metadata": {},
   "source": [
    "Problem 4, Part 2"
   ]
  },
  {
   "cell_type": "code",
   "execution_count": 14,
   "metadata": {},
   "outputs": [],
   "source": [
    "A = [1,2,3,4,5,6,7,8,9,10]\n",
    "B = [-1,1,3,4,5,6,7,8,9,10]"
   ]
  },
  {
   "cell_type": "code",
   "execution_count": 17,
   "metadata": {},
   "outputs": [
    {
     "name": "stdout",
     "output_type": "stream",
     "text": [
      "-1\n",
      "1\n"
     ]
    }
   ],
   "source": [
    "print Ai_eq_i(A)\n",
    "print Ai_eq_i(B)"
   ]
  },
  {
   "cell_type": "code",
   "execution_count": null,
   "metadata": {
    "collapsed": true
   },
   "outputs": [],
   "source": []
  }
 ],
 "metadata": {
  "kernelspec": {
   "display_name": "Python 2",
   "language": "python",
   "name": "python2"
  },
  "language_info": {
   "codemirror_mode": {
    "name": "ipython",
    "version": 2
   },
   "file_extension": ".py",
   "mimetype": "text/x-python",
   "name": "python",
   "nbconvert_exporter": "python",
   "pygments_lexer": "ipython2",
   "version": "2.7.13"
  }
 },
 "nbformat": 4,
 "nbformat_minor": 1
}
