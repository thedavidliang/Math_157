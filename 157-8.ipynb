{
 "cells": [
  {
   "cell_type": "markdown",
   "metadata": {},
   "source": [
    "<p> Math 157 - Homework 8 </p>\n",
    "David Liang"
   ]
  },
  {
   "cell_type": "code",
   "execution_count": 1,
   "metadata": {
    "collapsed": true
   },
   "outputs": [],
   "source": [
    "import math\n",
    "import numpy as np"
   ]
  },
  {
   "cell_type": "markdown",
   "metadata": {},
   "source": [
    "Problem 1"
   ]
  },
  {
   "cell_type": "code",
   "execution_count": 2,
   "metadata": {
    "collapsed": true
   },
   "outputs": [],
   "source": [
    "# A, B are two sorted lists \n",
    "# intersect_sorted(A, B) returns the intersection of A, B\n",
    "\n",
    "def intersect_sorted(A, B):\n",
    "    # if A or B empty, return empty list\n",
    "    if ((len(A) == 0) or (len(B) == 0)):\n",
    "        return []\n",
    "    \n",
    "    a = A[0]\n",
    "    b = B[0]\n",
    "    if (a == b):\n",
    "        return ([a] + intersect_sorted(A[1:], B[1:]))       \n",
    "    elif (a < b):\n",
    "        return intersect_sorted(A[1:], B)\n",
    "    else:\n",
    "        return intersect_sorted(A, B[1:])"
   ]
  },
  {
   "cell_type": "code",
   "execution_count": 3,
   "metadata": {},
   "outputs": [
    {
     "data": {
      "text/plain": [
       "[5, 7, 9]"
      ]
     },
     "execution_count": 3,
     "metadata": {},
     "output_type": "execute_result"
    }
   ],
   "source": [
    "intersect_sorted([1,2,3,4,5,6,7,8,9,10], [5,7,9,11,13])"
   ]
  },
  {
   "cell_type": "markdown",
   "metadata": {},
   "source": [
    "Problem 2"
   ]
  },
  {
   "cell_type": "code",
   "execution_count": 14,
   "metadata": {
    "collapsed": true
   },
   "outputs": [],
   "source": [
    "# A a sorted numpy array, k a numerical value\n",
    "# search_sorted_matrix(A, k) returns position (i,j) of k, \n",
    "#   or None if k not in A\n",
    "\n",
    "def search_sorted_matrix(A, k):\n",
    "    if((A.shape[0]==0) or (A.shape[1]==0)):\n",
    "        print \"null array\"\n",
    "    \n",
    "    # search for k, starting in corner of A\n",
    "    i = 0\n",
    "    j = A.shape[1] - 1\n",
    "    while ((i < A.shape[0]) and (j >= 0)):\n",
    "        corner = A[i][j]\n",
    "        if k < corner:\n",
    "            j -= 1\n",
    "        elif k > corner: \n",
    "            i += 1\n",
    "        else:\n",
    "            return i,j\n",
    "    \n",
    "    # executed if no match found \n",
    "    print \"Not Found\"\n",
    "    return None "
   ]
  },
  {
   "cell_type": "code",
   "execution_count": 18,
   "metadata": {},
   "outputs": [
    {
     "name": "stdout",
     "output_type": "stream",
     "text": [
      "(1, 0)\n"
     ]
    }
   ],
   "source": [
    "v = search_sorted_matrix(np.array([[1,2,3],[4,5,6]]), 4)\n",
    "print v"
   ]
  },
  {
   "cell_type": "code",
   "execution_count": 23,
   "metadata": {
    "collapsed": true
   },
   "outputs": [],
   "source": [
    "# returns square matrix with A_ij = i^2 + j^2\n",
    "# size of matrix is k such that k^2 <= n-1\n",
    "\n",
    "def squared_matrix(n):\n",
    "    sqrt_n = int(math.sqrt(n-1))\n",
    "    return np.fromfunction(lambda x, y: (1+x)**2 + (1+y)**2, (sqrt_n, sqrt_n))"
   ]
  },
  {
   "cell_type": "code",
   "execution_count": 31,
   "metadata": {
    "collapsed": true
   },
   "outputs": [],
   "source": [
    "# finds x,y>0 such that x^2 + y^2 = n\n",
    "# returns None if no such (x,y) exist \n",
    "\n",
    "def find_sum_sq(n):\n",
    "    result = search_sorted_matrix(squared_matrix(n), n)\n",
    "    if result is None:\n",
    "        return result\n",
    "    else:\n",
    "        # increment the coordinates of position\n",
    "        i, j = result\n",
    "        return i+1,j+1"
   ]
  },
  {
   "cell_type": "code",
   "execution_count": 64,
   "metadata": {},
   "outputs": [
    {
     "name": "stdout",
     "output_type": "stream",
     "text": [
      "(2, 5)\n"
     ]
    }
   ],
   "source": [
    "print find_sum_sq(29)"
   ]
  },
  {
   "cell_type": "code",
   "execution_count": 69,
   "metadata": {
    "collapsed": true
   },
   "outputs": [],
   "source": [
    "# alternative to find_sum_sq that does not use any matrices \n",
    "\n",
    "def find_sum_sq_alternative(n):\n",
    "    sqrt_n = int(math.sqrt(n-1))\n",
    "    for i in range(1,sqrt_n+1):\n",
    "        for j in range(i, sqrt_n+1):\n",
    "            if (i**2 + j**2 == n):\n",
    "                return i,j\n",
    "    return None "
   ]
  }
 ],
 "metadata": {
  "kernelspec": {
   "display_name": "Python 2",
   "language": "python",
   "name": "python2"
  },
  "language_info": {
   "codemirror_mode": {
    "name": "ipython",
    "version": 2
   },
   "file_extension": ".py",
   "mimetype": "text/x-python",
   "name": "python",
   "nbconvert_exporter": "python",
   "pygments_lexer": "ipython2",
   "version": "2.7.13"
  }
 },
 "nbformat": 4,
 "nbformat_minor": 1
}
